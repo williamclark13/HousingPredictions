{
 "cells": [
  {
   "cell_type": "markdown",
   "id": "86e40e45",
   "metadata": {},
   "source": [
    "# GitHub: https://github.com/williamclark13/HousingPredictions"
   ]
  },
  {
   "cell_type": "markdown",
   "id": "6141ee14",
   "metadata": {},
   "source": [
    "# Import Libraries"
   ]
  },
  {
   "cell_type": "code",
   "execution_count": 132,
   "id": "540c0eef",
   "metadata": {},
   "outputs": [],
   "source": [
    "import pandas as pd\n",
    "import numpy as np\n",
    "import matplotlib.pyplot as plt\n",
    "from sklearn.model_selection import train_test_split, cross_val_score\n",
    "from sklearn.preprocessing import StandardScaler, LabelEncoder, OneHotEncoder\n",
    "from sklearn.feature_selection import SelectKBest, chi2, f_classif\n",
    "from sklearn.ensemble import RandomForestRegressor\n",
    "from sklearn.metrics import mean_squared_error, r2_score\n",
    "from imblearn.over_sampling import SMOTE\n",
    "from imblearn.under_sampling import RandomUnderSampler"
   ]
  },
  {
   "cell_type": "markdown",
   "id": "e3f68dec",
   "metadata": {},
   "source": [
    "# Data Wrangling"
   ]
  },
  {
   "cell_type": "code",
   "execution_count": 133,
   "id": "7fc26190",
   "metadata": {},
   "outputs": [
    {
     "name": "stdout",
     "output_type": "stream",
     "text": [
      "Predict house prices (regression)\n"
     ]
    }
   ],
   "source": [
    "df = pd.read_csv(\"Housing.csv\")\n",
    "\n",
    "df = df[(df['price'] < 12000000) & (df['price'] > 2000000)]\n",
    "y = df['price']\n",
    "\n",
    "prediction_goal = \"Predict house prices (regression)\"\n",
    "print(prediction_goal)"
   ]
  },
  {
   "cell_type": "code",
   "execution_count": 134,
   "id": "910dc461",
   "metadata": {},
   "outputs": [
    {
     "data": {
      "text/html": [
       "<div>\n",
       "<style scoped>\n",
       "    .dataframe tbody tr th:only-of-type {\n",
       "        vertical-align: middle;\n",
       "    }\n",
       "\n",
       "    .dataframe tbody tr th {\n",
       "        vertical-align: top;\n",
       "    }\n",
       "\n",
       "    .dataframe thead th {\n",
       "        text-align: right;\n",
       "    }\n",
       "</style>\n",
       "<table border=\"1\" class=\"dataframe\">\n",
       "  <thead>\n",
       "    <tr style=\"text-align: right;\">\n",
       "      <th></th>\n",
       "      <th>price</th>\n",
       "      <th>area</th>\n",
       "      <th>bedrooms</th>\n",
       "      <th>bathrooms</th>\n",
       "      <th>stories</th>\n",
       "      <th>parking</th>\n",
       "      <th>mainroad_yes</th>\n",
       "      <th>guestroom_yes</th>\n",
       "      <th>basement_yes</th>\n",
       "      <th>hotwaterheating_yes</th>\n",
       "      <th>airconditioning_yes</th>\n",
       "      <th>prefarea_yes</th>\n",
       "      <th>furnishingstatus_semi-furnished</th>\n",
       "      <th>furnishingstatus_unfurnished</th>\n",
       "    </tr>\n",
       "  </thead>\n",
       "  <tbody>\n",
       "    <tr>\n",
       "      <th>4</th>\n",
       "      <td>11410000</td>\n",
       "      <td>7420</td>\n",
       "      <td>4</td>\n",
       "      <td>1</td>\n",
       "      <td>2</td>\n",
       "      <td>2</td>\n",
       "      <td>1</td>\n",
       "      <td>1</td>\n",
       "      <td>1</td>\n",
       "      <td>0</td>\n",
       "      <td>1</td>\n",
       "      <td>0</td>\n",
       "      <td>0</td>\n",
       "      <td>0</td>\n",
       "    </tr>\n",
       "    <tr>\n",
       "      <th>5</th>\n",
       "      <td>10850000</td>\n",
       "      <td>7500</td>\n",
       "      <td>3</td>\n",
       "      <td>3</td>\n",
       "      <td>1</td>\n",
       "      <td>2</td>\n",
       "      <td>1</td>\n",
       "      <td>0</td>\n",
       "      <td>1</td>\n",
       "      <td>0</td>\n",
       "      <td>1</td>\n",
       "      <td>1</td>\n",
       "      <td>1</td>\n",
       "      <td>0</td>\n",
       "    </tr>\n",
       "    <tr>\n",
       "      <th>6</th>\n",
       "      <td>10150000</td>\n",
       "      <td>8580</td>\n",
       "      <td>4</td>\n",
       "      <td>3</td>\n",
       "      <td>4</td>\n",
       "      <td>2</td>\n",
       "      <td>1</td>\n",
       "      <td>0</td>\n",
       "      <td>0</td>\n",
       "      <td>0</td>\n",
       "      <td>1</td>\n",
       "      <td>1</td>\n",
       "      <td>1</td>\n",
       "      <td>0</td>\n",
       "    </tr>\n",
       "    <tr>\n",
       "      <th>7</th>\n",
       "      <td>10150000</td>\n",
       "      <td>16200</td>\n",
       "      <td>5</td>\n",
       "      <td>3</td>\n",
       "      <td>2</td>\n",
       "      <td>0</td>\n",
       "      <td>1</td>\n",
       "      <td>0</td>\n",
       "      <td>0</td>\n",
       "      <td>0</td>\n",
       "      <td>0</td>\n",
       "      <td>0</td>\n",
       "      <td>0</td>\n",
       "      <td>1</td>\n",
       "    </tr>\n",
       "    <tr>\n",
       "      <th>8</th>\n",
       "      <td>9870000</td>\n",
       "      <td>8100</td>\n",
       "      <td>4</td>\n",
       "      <td>1</td>\n",
       "      <td>2</td>\n",
       "      <td>2</td>\n",
       "      <td>1</td>\n",
       "      <td>1</td>\n",
       "      <td>1</td>\n",
       "      <td>0</td>\n",
       "      <td>1</td>\n",
       "      <td>1</td>\n",
       "      <td>0</td>\n",
       "      <td>0</td>\n",
       "    </tr>\n",
       "  </tbody>\n",
       "</table>\n",
       "</div>"
      ],
      "text/plain": [
       "      price   area  bedrooms  bathrooms  stories  parking  mainroad_yes  \\\n",
       "4  11410000   7420         4          1        2        2             1   \n",
       "5  10850000   7500         3          3        1        2             1   \n",
       "6  10150000   8580         4          3        4        2             1   \n",
       "7  10150000  16200         5          3        2        0             1   \n",
       "8   9870000   8100         4          1        2        2             1   \n",
       "\n",
       "   guestroom_yes  basement_yes  hotwaterheating_yes  airconditioning_yes  \\\n",
       "4              1             1                    0                    1   \n",
       "5              0             1                    0                    1   \n",
       "6              0             0                    0                    1   \n",
       "7              0             0                    0                    0   \n",
       "8              1             1                    0                    1   \n",
       "\n",
       "   prefarea_yes  furnishingstatus_semi-furnished  furnishingstatus_unfurnished  \n",
       "4             0                                0                             0  \n",
       "5             1                                1                             0  \n",
       "6             1                                1                             0  \n",
       "7             0                                0                             1  \n",
       "8             1                                0                             0  "
      ]
     },
     "execution_count": 134,
     "metadata": {},
     "output_type": "execute_result"
    }
   ],
   "source": [
    "categorical_features = [\"mainroad\", \"guestroom\", \"basement\", \"hotwaterheating\", \"airconditioning\", \"prefarea\", \"furnishingstatus\"]\n",
    "df = pd.get_dummies(df, columns=categorical_features, drop_first=True)\n",
    "\n",
    "df = df.dropna()\n",
    "df = df.drop_duplicates()\n",
    "\n",
    "df.head()"
   ]
  },
  {
   "cell_type": "markdown",
   "id": "11227bd1",
   "metadata": {},
   "source": [
    "# Feature Engineering"
   ]
  },
  {
   "cell_type": "code",
   "execution_count": 135,
   "id": "213b7e4c",
   "metadata": {},
   "outputs": [],
   "source": [
    "df['total_bed_bath'] = df['bedrooms'] + df['bathrooms']\n",
    "\n",
    "X = df.drop(\"price\", axis=1)\n",
    "anova = SelectKBest(score_func=f_classif, k=5)\n",
    "X_new = anova.fit_transform(X, y)"
   ]
  },
  {
   "cell_type": "markdown",
   "id": "17f3ff05",
   "metadata": {},
   "source": [
    "# Feature Scaling"
   ]
  },
  {
   "cell_type": "code",
   "execution_count": 136,
   "id": "73ffcf99",
   "metadata": {},
   "outputs": [],
   "source": [
    "scaler = StandardScaler()\n",
    "X_scaled = scaler.fit_transform(X_new)"
   ]
  },
  {
   "cell_type": "markdown",
   "id": "cec44a3e",
   "metadata": {},
   "source": [
    "# Build Prediction Model: Linear Regression"
   ]
  },
  {
   "cell_type": "code",
   "execution_count": 137,
   "id": "5d7d6a88",
   "metadata": {},
   "outputs": [
    {
     "name": "stdout",
     "output_type": "stream",
     "text": [
      "Mean Squared Error: 1900344376308.84\n",
      "R-squared Score: 0.52 \n",
      "\n",
      "Cross-Validation Mean Squared Error: 2840388204773.03\n"
     ]
    }
   ],
   "source": [
    "X_train, X_test, y_train, y_test = train_test_split(X_scaled, y, test_size=0.2, random_state=42)\n",
    "model = RandomForestRegressor()\n",
    "model.fit(X_train, y_train)\n",
    "y_pred = model.predict(X_test)\n",
    "\n",
    "mse = mean_squared_error(y_test, y_pred)\n",
    "r2 = r2_score(y_test, y_pred)\n",
    "print(f\"Mean Squared Error: {mse:.2f}\")\n",
    "print(f\"R-squared Score: {r2:.2f} \\n\")\n",
    "\n",
    "cross_val_scores = cross_val_score(model, X_scaled, y, cv=5, scoring='neg_mean_squared_error')\n",
    "mse_cv = -cross_val_scores.mean()\n",
    "print(f\"Cross-Validation Mean Squared Error: {mse_cv:.2f}\")"
   ]
  },
  {
   "cell_type": "markdown",
   "id": "36db460a",
   "metadata": {},
   "source": [
    "# 1: Problem Statement\n",
    "* **Dataset**: housing prices prediction\n",
    "* **Target Variable**: prices\n",
    "* **State Prediction Goal**: regression\n",
    "\n",
    "# 3: Feature Engineering\n",
    "* **Variables with little variance**: none chosen\n",
    "* **Features irrelevant to target variable**: none are, but some are less relevant\n",
    "* **Highly-Correlated features**: none chosen\n",
    "* **Algorithm require normalized/standardized data**: yes\n",
    "* **Categorical variables need be changed to dummy variables**: yes\n",
    "\n",
    "# 4: Build Prediction Model\n",
    "* **Does data need to be balanced**: no\n",
    "* **What do you use to validate result**: train_test_split\n",
    "* **Which algorithm is appropriate for this problem**: random forest regressor\n",
    "* **Which metrics do you use to evalutate prediction model**:\n",
    "    - Chose MSE because: gives clear understanding of sqrd prediction error.\n",
    "    - Chose R2 because: states how well model fits data.\n",
    "\n",
    "# Task: 2, 5, 6 dont have answerable questions\n",
    "# Ultimately, the model that I had built failed."
   ]
  }
 ],
 "metadata": {
  "kernelspec": {
   "display_name": "Python 3 (ipykernel)",
   "language": "python",
   "name": "python3"
  },
  "language_info": {
   "codemirror_mode": {
    "name": "ipython",
    "version": 3
   },
   "file_extension": ".py",
   "mimetype": "text/x-python",
   "name": "python",
   "nbconvert_exporter": "python",
   "pygments_lexer": "ipython3",
   "version": "3.9.13"
  }
 },
 "nbformat": 4,
 "nbformat_minor": 5
}
